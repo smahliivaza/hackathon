{
 "cells": [
  {
   "cell_type": "code",
   "execution_count": 1,
   "metadata": {
    "collapsed": true
   },
   "outputs": [],
   "source": [
    "import torch \n",
    "import numpy as np\n",
    "import os\n",
    "from scipy import misc\n",
    "from matting import generate_trimap\n",
    "import argparse\n",
    "import sys"
   ]
  },
  {
   "cell_type": "code",
   "execution_count": null,
   "metadata": {
    "collapsed": true
   },
   "outputs": [],
   "source": [
    "g_mean = np.array(([126.88,120.24,112.19])).reshape([1,1,3])\n",
    "\n",
    "def main(args):\n",
    "    \"\"\"\n",
    "    gpu_options = tf.GPUOptions(per_process_gpu_memory_fraction = args.gpu_fraction)\n",
    "    with tf.Session(config=tf.ConfigProto(gpu_options = gpu_options)) as sess:\n",
    "    \n",
    "        saver = tf.train.import_meta_graph('./meta_graph/my-model.meta')\n",
    "        saver.restore(sess,tf.train.latest_checkpoint('./model'))\n",
    "        \n",
    "        image_batch = tf.get_collection('image_batch')[0]\n",
    "        GT_trimap = tf.get_collection('GT_trimap')[0]\n",
    "        pred_mattes = tf.get_collection('pred_mattes')[0]\n",
    "\n",
    "        rgb = misc.imread(args.rgb)\n",
    "        alpha = misc.imread(args.alpha,'L')\n",
    "        trimap = generate_trimap(np.expand_dims(np.copy(alpha),2),np.expand_dims(alpha,2))[:,:,0]\n",
    "        origin_shape = alpha.shape\n",
    "        rgb = np.expand_dims(misc.imresize(rgb.astype(np.uint8),[320,320,3]).astype(np.float32)-g_mean,0)\n",
    "        trimap = np.expand_dims(np.expand_dims(misc.imresize(trimap.astype(np.uint8),[320,320],interp = 'nearest').astype(np.float32),2),0)\n",
    "\n",
    "        feed_dict = {image_batch:rgb,GT_trimap:trimap}\n",
    "        pred_alpha = sess.run(pred_mattes,feed_dict = feed_dict)\n",
    "        final_alpha = misc.imresize(np.squeeze(pred_alpha),origin_shape)\n",
    "        # misc.imshow(final_alpha)\n",
    "        misc.imsave('./alpha.png',final_alpha)\n",
    "    \"\"\"\n",
    "    \n",
    "    saver = \n"
   ]
  },
  {
   "cell_type": "code",
   "execution_count": null,
   "metadata": {
    "collapsed": true
   },
   "outputs": [],
   "source": [
    "def parse_arguments(argv):\n",
    "    parser = argparse.ArgumentParser()\n",
    "\n",
    "    parser.add_argument('--alpha', type=str,\n",
    "        help='input alpha')\n",
    "    parser.add_argument('--rgb', type=str,\n",
    "        help='input rgb')\n",
    "    parser.add_argument('--gpu_fraction', type=float,\n",
    "        help='how much gpu is needed, usually 4G is enough',default = 0.4)\n",
    "    return parser.parse_args(argv)\n",
    "\n",
    "\n",
    "if __name__ == '__main__':\n",
    "    main(parse_arguments(sys.argv[1:]))"
   ]
  }
 ],
 "metadata": {
  "kernelspec": {
   "display_name": "Python 3",
   "language": "python",
   "name": "python3"
  },
  "language_info": {
   "codemirror_mode": {
    "name": "ipython",
    "version": 3
   },
   "file_extension": ".py",
   "mimetype": "text/x-python",
   "name": "python",
   "nbconvert_exporter": "python",
   "pygments_lexer": "ipython3",
   "version": "3.6.4"
  }
 },
 "nbformat": 4,
 "nbformat_minor": 2
}
