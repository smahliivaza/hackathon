{
 "cells": [
  {
   "cell_type": "code",
   "execution_count": 1,
   "metadata": {
    "collapsed": true
   },
   "outputs": [],
   "source": [
    "import cv2\n",
    "import numpy as np\n",
    "import matplotlib\n",
    "from matplotlib.pyplot import imshow\n",
    "from matplotlib import pyplot as plt\n",
    "import os"
   ]
  },
  {
   "cell_type": "code",
   "execution_count": 2,
   "metadata": {
    "scrolled": false
   },
   "outputs": [
    {
     "ename": "SyntaxError",
     "evalue": "invalid syntax (<ipython-input-2-1ae1fea6f920>, line 101)",
     "output_type": "error",
     "traceback": [
      "\u001b[0;36m  File \u001b[0;32m\"<ipython-input-2-1ae1fea6f920>\"\u001b[0;36m, line \u001b[0;32m101\u001b[0m\n\u001b[0;31m    distance =\u001b[0m\n\u001b[0m               ^\u001b[0m\n\u001b[0;31mSyntaxError\u001b[0m\u001b[0;31m:\u001b[0m invalid syntax\n"
     ]
    }
   ],
   "source": [
    "from os import listdir\n",
    "from os.path import isfile, join\n",
    "\n",
    "dataset = \"data/\"\n",
    "files = [f for f in listdir(dataset) if isfile(join(dataset, f))]\n",
    "q = 6\n",
    "for i in files[q:q+1]:\n",
    "    filein = dataset + i#files[4]\n",
    "\n",
    "    #plt.figure(1)\n",
    "\n",
    "    #plt.subplot(231)\n",
    "\n",
    "    # white color mask\n",
    "    img = cv2.imread(filein)\n",
    "    #plt.imshow(img,cmap='gray')\n",
    "    #plt.show()\n",
    "\n",
    "    #converted = convert_hls(img)\n",
    "    image = cv2.cvtColor(img,cv2.COLOR_BGR2HLS)\n",
    "    lower = np.uint8([0, 200, 0])\n",
    "    upper = np.uint8([255, 255, 255])\n",
    "    white_mask = cv2.inRange(image, lower, upper)\n",
    "    # yellow color mask\n",
    "    lower = np.uint8([10, 0,   100])\n",
    "    upper = np.uint8([40, 255, 255])\n",
    "    yellow_mask = cv2.inRange(image, lower, upper)\n",
    "    # combine the mask\n",
    "    mask = cv2.bitwise_or(white_mask, yellow_mask)\n",
    "    result = img.copy()\n",
    "    #cv2.imshow(\"mask\",mask)\n",
    "    #cv2.waitKey(0)\n",
    "    #plt.subplot(232)\n",
    "    #plt.imshow(mask,cmap='gray')\n",
    "    #plt.show()\n",
    "\n",
    "    height,width = mask.shape\n",
    "    skel = np.zeros([height,width],dtype=np.uint8)      #[height,width,3]\n",
    "    kernel = cv2.getStructuringElement(cv2.MORPH_CROSS, (3,3))\n",
    "    temp_nonzero = np.count_nonzero(mask)\n",
    "    #while(np.count_nonzero(mask) != 0 ):\n",
    "    for _ in range(8):\n",
    "        eroded = cv2.erode(mask,kernel)\n",
    "        #cv2.imshow(\"eroded\",eroded)   \n",
    "        temp = cv2.dilate(eroded,kernel)\n",
    "        #cv2.imshow(\"dilate\",temp)\n",
    "        temp = cv2.subtract(mask,temp)\n",
    "        skel = cv2.bitwise_or(skel,temp)\n",
    "        mask = eroded.copy()\n",
    "        #plt.imshow(mask,cmap='gray')\n",
    "        #plt.show()\n",
    "\n",
    "    #cv2.imshow(\"skel\",skel)\n",
    "    #cv2.waitKey(0)\n",
    "    #plt.subplot(233)\n",
    "    #plt.imshow(mask,cmap='gray')\n",
    "    minLineLength = 200\n",
    "    maxLineGap = 60\n",
    "    imgg = img.copy()\n",
    "    lines = cv2.HoughLinesP(mask,1,np.pi/180,30,minLineLength,maxLineGap)\n",
    "    try:\n",
    "        print(len(lines))\n",
    "        k = []\n",
    "        b = []\n",
    "        for line in lines:\n",
    "            for x1,y1,x2,y2 in line:\n",
    "                cv2.line(imgg,(x1,y1),(x2,y2),(255,0,0),2)\n",
    "                k.append(-(y2-y1)/(x2-x1))\n",
    "                b.append(y1 - x1*(y2-y1)/(x2-x1))\n",
    "                #print(x1,y1,x2,y2)\n",
    "    except:\n",
    "        pass\n",
    "    #plt.subplot(234)\n",
    "    #plt.imshow(imgg)\n",
    "    import numpy as np\n",
    "    from sklearn.cluster import KMeans, MeanShift\n",
    "    print(np.array(sorted(k)))\n",
    "    print(np.array(k).mean(),np.array(k).std())\n",
    "    print(np.array(sorted(b)))\n",
    "    print(np.array(b).mean(),np.array(b).std())\n",
    "    #plt.subplot(235)\n",
    "    #plt.plot(np.array(k),np.array(b),'ro')\n",
    "    X = np.array([(k_,b_) for k_, b_ in zip(k, b) if k_!=np.inf and k_!=np.nan and b_!=np.nan and b_!=np.inf])\n",
    "    #todrop = np.array(k)!=np.inf and np.array(k)!=np.nan and np.array(b)!=np.nan and np.array(b)!=np.inf\n",
    "    print(X)\n",
    "    #X = X[todrop]\n",
    "    #print(X)\n",
    "    print('!')\n",
    "    #clusters = KMeans(n_clusters=3, random_state=0).fit_predict(X)\n",
    "    clusters = MeanShift(bandwidth=40, bin_seeding=True).fit_predict(X)\n",
    "#     a = []\n",
    "    for n_cluster in set(clusters):\n",
    "        avg_cluster = np.mean(X[clusters==n_cluster],axis=0)\n",
    "        print(avg_cluster)\n",
    "        k, b = avg_cluster[0], avg_cluster[1]\n",
    "#         a.extend([avg_cluster])\n",
    "        height, width, channels = img.shape\n",
    "        cv2.line(imgg,(0,int(b)),(width,int(width*k+b)),(255,0,0),2)\n",
    "        #plt.subplot(236)\n",
    "        plt.plot((0,width),(int(b),int(width*(-k)+b)))\n",
    "#     distance = (a)\n",
    "#     d = np.log(distance**0.5)    \n",
    "#     print(d)\n",
    "    plt.title(\"{} clusters found\".format(len(set(clusters))))\n",
    "    plt.imshow(img)\n",
    "        \n",
    "    plt.show()\n",
    "    \n",
    "    "
   ]
  },
  {
   "cell_type": "code",
   "execution_count": 18,
   "metadata": {},
   "outputs": [
    {
     "name": "stdout",
     "output_type": "stream",
     "text": [
      "6.850209951293019\n"
     ]
    }
   ],
   "source": [
    "distance = np.log(np.sqrt((avg_cluster[0]-avg_cluster[0])**2+(avg_cluster[1]+avg_cluster[1])**2))\n",
    "  \n",
    "print(distance)"
   ]
  },
  {
   "cell_type": "code",
   "execution_count": 32,
   "metadata": {},
   "outputs": [
    {
     "name": "stdout",
     "output_type": "stream",
     "text": [
      "[array([ -0.22312218, -31.7726232 ]), array([-2.79886897e-01,  4.72039548e+02])]\n"
     ]
    }
   ],
   "source": [
    "print(a)"
   ]
  },
  {
   "cell_type": "code",
   "execution_count": null,
   "metadata": {
    "collapsed": true
   },
   "outputs": [],
   "source": []
  },
  {
   "cell_type": "code",
   "execution_count": 3,
   "metadata": {
    "collapsed": true
   },
   "outputs": [],
   "source": [
    "\n",
    "filein = 'data/02-big.jpg'\n",
    "# white color mask\n",
    "img = cv2.imread(filein)\n",
    "plt.imshow(img,cmap='gray')\n",
    "plt.show()"
   ]
  },
  {
   "cell_type": "code",
   "execution_count": 4,
   "metadata": {
    "scrolled": true
   },
   "outputs": [
    {
     "data": {
      "image/png": "[encoded data removed]",
      "text/plain": [
       "<matplotlib.figure.Figure at 0x7f7dc25a1550>"
      ]
     },
     "metadata": {},
     "output_type": "display_data"
    }
   ],
   "source": [
    "\n",
    "#converted = convert_hls(img)\n",
    "image = cv2.cvtColor(img,cv2.COLOR_BGR2HLS)\n",
    "lower = np.uint8([0, 200, 0])\n",
    "upper = np.uint8([255, 255, 255])\n",
    "white_mask = cv2.inRange(image, lower, upper)\n",
    "# yellow color mask\n",
    "lower = np.uint8([10, 0,   100])\n",
    "upper = np.uint8([40, 255, 255])\n",
    "yellow_mask = cv2.inRange(image, lower, upper)\n",
    "# combine the mask\n",
    "mask = cv2.bitwise_or(white_mask, yellow_mask)\n",
    "result = img.copy()\n",
    "#cv2.imshow(\"mask\",mask)\n",
    "#cv2.waitKey(0)\n",
    "plt.imshow(mask,cmap='gray')\n",
    "plt.show()\n"
   ]
  },
  {
   "cell_type": "code",
   "execution_count": null,
   "metadata": {
    "collapsed": true
   },
   "outputs": [],
   "source": []
  },
  {
   "cell_type": "code",
   "execution_count": 1,
   "metadata": {},
   "outputs": [
    {
     "ename": "NameError",
     "evalue": "name 'cv2' is not defined",
     "output_type": "error",
     "traceback": [
      "\u001b[0;31m---------------------------------------------------------------------------\u001b[0m",
      "\u001b[0;31mNameError\u001b[0m                                 Traceback (most recent call last)",
      "\u001b[0;32m<ipython-input-1-44462f544bad>\u001b[0m in \u001b[0;36m<module>\u001b[0;34m()\u001b[0m\n\u001b[0;32m----> 1\u001b[0;31m \u001b[0medges\u001b[0m \u001b[0;34m=\u001b[0m \u001b[0mcv2\u001b[0m\u001b[0;34m.\u001b[0m\u001b[0mCanny\u001b[0m\u001b[0;34m(\u001b[0m\u001b[0mskel\u001b[0m\u001b[0;34m,\u001b[0m \u001b[0;36m50\u001b[0m\u001b[0;34m,\u001b[0m \u001b[0;36m150\u001b[0m\u001b[0;34m)\u001b[0m\u001b[0;34m\u001b[0m\u001b[0m\n\u001b[0m\u001b[1;32m      2\u001b[0m \u001b[0mplt\u001b[0m\u001b[0;34m.\u001b[0m\u001b[0mimshow\u001b[0m\u001b[0;34m(\u001b[0m\u001b[0medges\u001b[0m\u001b[0;34m,\u001b[0m\u001b[0mcmap\u001b[0m\u001b[0;34m=\u001b[0m\u001b[0;34m'gray'\u001b[0m\u001b[0;34m)\u001b[0m\u001b[0;34m\u001b[0m\u001b[0m\n\u001b[1;32m      3\u001b[0m \u001b[0mplt\u001b[0m\u001b[0;34m.\u001b[0m\u001b[0mshow\u001b[0m\u001b[0;34m(\u001b[0m\u001b[0;34m)\u001b[0m\u001b[0;34m\u001b[0m\u001b[0m\n\u001b[1;32m      4\u001b[0m \u001b[0mlines\u001b[0m \u001b[0;34m=\u001b[0m \u001b[0mcv2\u001b[0m\u001b[0;34m.\u001b[0m\u001b[0mHoughLinesP\u001b[0m\u001b[0;34m(\u001b[0m\u001b[0medges\u001b[0m\u001b[0;34m,\u001b[0m\u001b[0;36m1\u001b[0m\u001b[0;34m,\u001b[0m\u001b[0mnp\u001b[0m\u001b[0;34m.\u001b[0m\u001b[0mpi\u001b[0m\u001b[0;34m/\u001b[0m\u001b[0;36m180\u001b[0m\u001b[0;34m,\u001b[0m\u001b[0;36m40\u001b[0m\u001b[0;34m,\u001b[0m\u001b[0mminLineLength\u001b[0m\u001b[0;34m=\u001b[0m\u001b[0;36m30\u001b[0m\u001b[0;34m,\u001b[0m\u001b[0mmaxLineGap\u001b[0m\u001b[0;34m=\u001b[0m\u001b[0;36m30\u001b[0m\u001b[0;34m)\u001b[0m\u001b[0;34m\u001b[0m\u001b[0m\n\u001b[1;32m      5\u001b[0m \u001b[0mi\u001b[0m \u001b[0;34m=\u001b[0m \u001b[0;36m0\u001b[0m\u001b[0;34m\u001b[0m\u001b[0m\n",
      "\u001b[0;31mNameError\u001b[0m: name 'cv2' is not defined"
     ]
    }
   ],
   "source": [
    "edges = cv2.Canny(skel, 50, 150)\n",
    "plt.imshow(edges,cmap='gray')\n",
    "plt.show()\n",
    "lines = cv2.HoughLinesP(edges,1,np.pi/180,40,minLineLength=30,maxLineGap=30)\n",
    "i = 0\n",
    "for x1,y1,x2,y2 in lines[0]:\n",
    "    i+=1\n",
    "    cv2.line(result,(x1,y1),(x2,y2),(255,0,0),1)\n",
    "print(i)\n"
   ]
  },
  {
   "cell_type": "code",
   "execution_count": 4,
   "metadata": {},
   "outputs": [
    {
     "name": "stdout",
     "output_type": "stream",
     "text": [
      "277\n"
     ]
    },
    {
     "data": {
      "text/plain": [
       "<matplotlib.image.AxesImage at 0x7f839c0a0320>"
      ]
     },
     "execution_count": 4,
     "metadata": {},
     "output_type": "execute_result"
    }
   ],
   "source": [
    "import cv2\n",
    "import numpy as np\n",
    "\n",
    "img = cv2.imread('data/01.jpg')\n",
    "gray = cv2.cvtColor(img,cv2.COLOR_BGR2GRAY)\n",
    "\n",
    "\n",
    "edges = cv2.Canny(gray,100,200,apertureSize = 3)\n",
    "#cv2.imshow('edges',edges)\n",
    "plt.imshow(edges,cmap='gray')\n",
    "#cv2.waitKey(0)\n",
    "\n",
    "minLineLength = 30\n",
    "maxLineGap = 10\n",
    "lines = cv2.HoughLinesP(edges,1,np.pi/180,15,minLineLength,maxLineGap)\n",
    "print(len(lines))\n",
    "for x in range(0, len(lines)):\n",
    "    for x1,y1,x2,y2 in lines[x]:\n",
    "        cv2.line(img,(x1,y1),(x2,y2),(255,0,0),2)\n",
    "plt.imshow(img,cmap='gray')\n"
   ]
  },
  {
   "cell_type": "code",
   "execution_count": 18,
   "metadata": {},
   "outputs": [
    {
     "data": {
      "application/vnd.jupyter.widget-view+json": {
       "model_id": "a14418d2d3d54b37996e5a65b8e91f16",
       "version_major": 2,
       "version_minor": 0
      },
      "text/plain": [
       "A Jupyter Widget"
      ]
     },
     "metadata": {},
     "output_type": "display_data"
    },
    {
     "data": {
      "text/plain": [
       "<function __main__.plot_func>"
      ]
     },
     "execution_count": 18,
     "metadata": {},
     "output_type": "execute_result"
    }
   ],
   "source": [
    "from ipywidgets import interact, interactive, fixed, interact_manual\n",
    "import ipywidgets as widgets\n",
    "\n",
    "import numpy as np\n",
    "\n",
    "def plot_func(min1, max1, min2, max2):\n",
    "    image = cv2.cvtColor(img,cv2.COLOR_BGR2HLS)\n",
    "    lower = np.uint8([min1, min1, min1])\n",
    "    upper = np.uint8([max1, max1, max1])\n",
    "    white_mask = cv2.inRange(image, lower, upper)\n",
    "    # yellow color mask\n",
    "    lower = np.uint8([min2, min2, min2])\n",
    "    upper = np.uint8([max2, max2, max2])\n",
    "    yellow_mask = cv2.inRange(image, lower, upper)\n",
    "    # combine the mask\n",
    "    mask = cv2.bitwise_or(white_mask, yellow_mask)\n",
    "    result = img.copy()\n",
    "    #cv2.imshow(\"mask\",mask)\n",
    "    #cv2.waitKey(0)\n",
    "    plt.imshow(mask,cmap='gray')\n",
    "\n",
    "interact(plot_func, \n",
    "         min1 = widgets.FloatSlider(value=0, min=0, max=255, step=1), \n",
    "         max1 = widgets.FloatSlider(value=255, min=0, max=255, step=1),\n",
    "         min2 = widgets.FloatSlider(value=0, min=0, max=255, step=1), \n",
    "         max2 = widgets.FloatSlider(value=255, min=0, max=255, step=1))\n"
   ]
  },
  {
   "cell_type": "code",
   "execution_count": 1,
   "metadata": {},
   "outputs": [
    {
     "data": {
      "application/vnd.jupyter.widget-view+json": {
       "model_id": "ac642914c1bf4ca0a86d6f098ec15e38",
       "version_major": 2,
       "version_minor": 0
      },
      "text/plain": [
       "A Jupyter Widget"
      ]
     },
     "metadata": {},
     "output_type": "display_data"
    },
    {
     "data": {
      "text/plain": [
       "<function __main__.plot_func>"
      ]
     },
     "execution_count": 1,
     "metadata": {},
     "output_type": "execute_result"
    }
   ],
   "source": [
    "from ipywidgets import interact, interactive, fixed, interact_manual\n",
    "import ipywidgets as widgets\n",
    "\n",
    "import os\n",
    "\n",
    "import matplotlib.pyplot as plt\n",
    "%matplotlib inline\n",
    "\n",
    "import numpy as np\n",
    "\n",
    "def plot_func(freq, amp):\n",
    "    x = np.linspace(0, 2*np.pi)\n",
    "    y = amp*np.sin(x * freq)\n",
    "    plt.plot(x, y)\n",
    "\n",
    "interact(plot_func, freq = widgets.FloatSlider(value=7.5, min=1, max=5.0, step=0.5), amp=widgets.FloatSlider(value=1, min=0.5, max=3, step=0.2))\n"
   ]
  }
 ],
 "metadata": {
  "kernelspec": {
   "display_name": "Python 3",
   "language": "python",
   "name": "python3"
  },
  "language_info": {
   "codemirror_mode": {
    "name": "ipython",
    "version": 3
   },
   "file_extension": ".py",
   "mimetype": "text/x-python",
   "name": "python",
   "nbconvert_exporter": "python",
   "pygments_lexer": "ipython3",
   "version": "3.6.4"
  }
 },
 "nbformat": 4,
 "nbformat_minor": 2
}
