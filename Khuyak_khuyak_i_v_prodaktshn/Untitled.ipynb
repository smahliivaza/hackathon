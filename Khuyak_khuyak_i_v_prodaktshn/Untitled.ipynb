{
 "cells": [
  {
   "cell_type": "code",
   "execution_count": 4,
   "metadata": {},
   "outputs": [
    {
     "name": "stdout",
     "output_type": "stream",
     "text": [
      "Hackathon  VOCtrainval_11-May-2012.tar\tdata\r\n"
     ]
    }
   ],
   "source": [
    "!ls ../.."
   ]
  },
  {
   "cell_type": "code",
   "execution_count": 5,
   "metadata": {
    "collapsed": true
   },
   "outputs": [],
   "source": [
    "!mv ../../VOCtrainval_11-May-2012.tar ."
   ]
  },
  {
   "cell_type": "code",
   "execution_count": 6,
   "metadata": {},
   "outputs": [
    {
     "name": "stdout",
     "output_type": "stream",
     "text": [
      "Untitled.ipynb\tVOCtrainval_11-May-2012.tar\r\n"
     ]
    }
   ],
   "source": [
    "!ls"
   ]
  },
  {
   "cell_type": "code",
   "execution_count": 7,
   "metadata": {},
   "outputs": [
    {
     "name": "stdout",
     "output_type": "stream",
     "text": [
      "\r\n",
      "gzip: stdin: not in gzip format\r\n",
      "tar: Child returned status 1\r\n",
      "tar: Error is not recoverable: exiting now\r\n"
     ]
    }
   ],
   "source": [
    "!tar xvzf VOCtrainval_11-May-2012.tar"
   ]
  },
  {
   "cell_type": "code",
   "execution_count": 10,
   "metadata": {},
   "outputs": [
    {
     "name": "stdout",
     "output_type": "stream",
     "text": [
      "VOCtrainval_11-May-2012.tar contains one directory but its name doesn't match.\n",
      " Expected: VOCtrainval_11-May-2012\n",
      "   Actual: VOCdevkit/\n",
      "You can:\n",
      " * extract the directory _I_nside a new directory named VOCtrainval_11-May-2012\n",
      " * extract the directory and _R_ename it VOCtrainval_11-May-2012\n",
      " * extract the directory _H_ere\n",
      "What do you want to do?  (I/r/h) "
     ]
    }
   ],
   "source": [
    "\n",
    "!echo \"I\" | dtrx VOCtrainval_11-May-2012.tar"
   ]
  },
  {
   "cell_type": "code",
   "execution_count": 13,
   "metadata": {},
   "outputs": [
    {
     "name": "stdout",
     "output_type": "stream",
     "text": [
      "VOC2012\r\n"
     ]
    }
   ],
   "source": [
    "!ls VOCtrainval_11-May-2012/VOCdevkit/\n"
   ]
  },
  {
   "cell_type": "code",
   "execution_count": 15,
   "metadata": {},
   "outputs": [
    {
     "name": "stdout",
     "output_type": "stream",
     "text": [
      "Filesystem      Size  Used Avail Use% Mounted on\r\n",
      "overlay         204G   72G  122G  38% /\r\n",
      "tmpfs            64M     0   64M   0% /dev\r\n",
      "tmpfs            11G     0   11G   0% /sys/fs/cgroup\r\n",
      "/dev/sda7       204G   72G  122G  38% /etc/hosts\r\n",
      "tmpfs            11G  168K   11G   1% /dev/shm\r\n",
      "tmpfs            11G   12K   11G   1% /proc/driver/nvidia\r\n",
      "tmpfs           2.2G  9.7M  2.2G   1% /run/nvidia-persistenced/socket\r\n",
      "udev             11G     0   11G   0% /dev/nvidia0\r\n",
      "tmpfs            11G     0   11G   0% /proc/scsi\r\n",
      "tmpfs            11G     0   11G   0% /sys/firmware\r\n"
     ]
    }
   ],
   "source": [
    "! df -h\n",
    "# git pull "
   ]
  },
  {
   "cell_type": "code",
   "execution_count": 17,
   "metadata": {},
   "outputs": [
    {
     "name": "stdout",
     "output_type": "stream",
     "text": [
      "Reading package lists... Done\n",
      "Building dependency tree       \n",
      "Reading state information... Done\n",
      "The following packages were automatically installed and are no longer required:\n",
      "  autotools-dev hdf5-helpers icu-devtools libarmadillo4 libarpack2 libcf0\n",
      "  libcurl4-gnutls-dev libdap11 libdapclient3 libepsilon1 libfreexl1 libgif-dev\n",
      "  libgif4 libhdf4-0-alt libhdf4-alt-dev libhdf5-8 libhdf5-cpp-8 libhdf5-dev\n",
      "  libicu-dev libkml0 libltdl-dev libmysqlclient-dev libmysqlclient18\n",
      "  libnetcdf-dev libnetcdfc++4 libnetcdfc7 libnetcdff5 libodbc1 libogdi3.2\n",
      "  libpoppler46 libproj0 libspatialite-dev libspatialite5 libsqlite3-dev\n",
      "  libtool liburiparser1 libxerces-c-dev libxerces-c3.1 libxml2-dev\n",
      "  mysql-common odbcinst odbcinst1debian2 proj-bin proj-data unixodbc\n",
      "  unixodbc-dev uuid-dev\n",
      "Use 'apt-get autoremove' to remove them.\n",
      "Suggested packages:\n",
      "  strace ltrace\n",
      "The following NEW packages will be installed:\n",
      "  htop\n",
      "0 upgraded, 1 newly installed, 0 to remove and 393 not upgraded.\n",
      "Need to get 75.3 kB of archives.\n",
      "After this operation, 209 kB of additional disk space will be used.\n",
      "Get:1 http://deb.debian.org/debian/ jessie/main htop amd64 1.0.3-1 [75.3 kB]\n",
      "Fetched 75.3 kB in 2s (26.3 kB/s)\n",
      "debconf: unable to initialize frontend: Dialog\n",
      "debconf: (No usable dialog-like program is installed, so the dialog based frontend cannot be used. at /usr/share/perl5/Debconf/FrontEnd/Dialog.pm line 76, <> line 1.)\n",
      "debconf: falling back to frontend: Readline\n",
      "W: Duplicate sources.list entry http://developer.download.nvidia.com/compute/machine-learning/repos/ubuntu1604/x86_64/  Packages (/var/lib/apt/lists/developer.download.nvidia.com_compute_machine-learning_repos_ubuntu1604_x86%5f64_Packages.gz)\n",
      "Selecting previously unselected package htop.\n",
      "(Reading database ... 40184 files and directories currently installed.)\n",
      "Preparing to unpack .../htop_1.0.3-1_amd64.deb ...\n",
      "Unpacking htop (1.0.3-1) ...\n",
      "Processing triggers for mime-support (3.58) ...\n",
      "Processing triggers for man-db (2.7.0.2-5) ...\n",
      "Setting up htop (1.0.3-1) ...\n",
      "W: Duplicate sources.list entry http://developer.download.nvidia.com/compute/machine-learning/repos/ubuntu1604/x86_64/  Packages (/var/lib/apt/lists/developer.download.nvidia.com_compute_machine-learning_repos_ubuntu1604_x86%5f64_Packages.gz)\n",
      "W: You may want to run apt-get update to correct these problems\n"
     ]
    }
   ],
   "source": [
    "!apt-get install htop"
   ]
  },
  {
   "cell_type": "code",
   "execution_count": 20,
   "metadata": {},
   "outputs": [
    {
     "name": "stdout",
     "output_type": "stream",
     "text": [
      "Cloning into 'retinanet.pytorch'...\n",
      "remote: Counting objects: 104, done.\u001b[K\n",
      "remote: Total 104 (delta 0), reused 0 (delta 0), pack-reused 104\u001b[K\n",
      "Receiving objects: 100% (104/104), 96.73 KiB | 0 bytes/s, done.\n",
      "Resolving deltas: 100% (41/41), done.\n",
      "Checking connectivity... done.\n"
     ]
    }
   ],
   "source": [
    "!git clone https://github.com/andreaazzini/retinanet.pytorch"
   ]
  },
  {
   "cell_type": "code",
   "execution_count": 21,
   "metadata": {},
   "outputs": [
    {
     "name": "stdout",
     "output_type": "stream",
     "text": [
      "Untitled.ipynb\t\t VOCtrainval_11-May-2012.tar\r\n",
      "VOCtrainval_11-May-2012  retinanet.pytorch\r\n"
     ]
    }
   ],
   "source": [
    "!ls"
   ]
  },
  {
   "cell_type": "code",
   "execution_count": 22,
   "metadata": {},
   "outputs": [
    {
     "name": "stdout",
     "output_type": "stream",
     "text": [
      "README.md    encoder.py  images   resnet.py\ttrain.py  voc\r\n",
      "__init__.py  exps\t loss.py  retinanet.py\tutils.py\r\n"
     ]
    }
   ],
   "source": [
    "!ls retinanet.pytorch/"
   ]
  },
  {
   "cell_type": "code",
   "execution_count": 23,
   "metadata": {
    "collapsed": true
   },
   "outputs": [],
   "source": [
    "!mkdir retinanet.pytorch/data"
   ]
  },
  {
   "cell_type": "code",
   "execution_count": 26,
   "metadata": {},
   "outputs": [],
   "source": [
    "!mv VOCtrainval_11-May-2012/VOCdevkit/VOC2012 retinanet.pytorch/data/VOC2012"
   ]
  },
  {
   "cell_type": "code",
   "execution_count": 27,
   "metadata": {},
   "outputs": [
    {
     "name": "stdout",
     "output_type": "stream",
     "text": [
      "Traceback (most recent call last):\r\n",
      "  File \"retinanet.pytorch/train.py\", line 25, in <module>\r\n",
      "    import config as cfg\r\n",
      "ModuleNotFoundError: No module named 'config'\r\n"
     ]
    }
   ],
   "source": [
    "!python retinanet.pytorch/train.py --exp voc\n"
   ]
  },
  {
   "cell_type": "code",
   "execution_count": 28,
   "metadata": {},
   "outputs": [
    {
     "name": "stdout",
     "output_type": "stream",
     "text": [
      "/bin/sh: 1: history: not found\r\n",
      "tail: cannot open ‘10’ for reading: No such file or directory\r\n"
     ]
    }
   ],
   "source": [
    "!history | tail 10"
   ]
  },
  {
   "cell_type": "code",
   "execution_count": 33,
   "metadata": {},
   "outputs": [
    {
     "name": "stdout",
     "output_type": "stream",
     "text": [
      "apt   emacsen-common  initscripts  misc    rpm\t      ucf\t   xfonts\r\n",
      "dbus  ghostscript     insserv\t   pam\t   sgml-base  update-rc.d  xml-core\r\n",
      "dpkg  git\t      man-db\t   python  systemd    urandom\r\n"
     ]
    }
   ],
   "source": [
    "!ls /var/lib/"
   ]
  }
 ],
 "metadata": {
  "kernelspec": {
   "display_name": "Python 3",
   "language": "python",
   "name": "python3"
  },
  "language_info": {
   "codemirror_mode": {
    "name": "ipython",
    "version": 3
   },
   "file_extension": ".py",
   "mimetype": "text/x-python",
   "name": "python",
   "nbconvert_exporter": "python",
   "pygments_lexer": "ipython3",
   "version": "3.6.4"
  }
 },
 "nbformat": 4,
 "nbformat_minor": 2
}
