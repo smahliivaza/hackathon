{
 "cells": [
  {
   "cell_type": "code",
   "execution_count": 1,
   "metadata": {
    "collapsed": true
   },
   "outputs": [],
   "source": [
    "from sklearn.cluster import KMeans"
   ]
  },
  {
   "cell_type": "code",
   "execution_count": null,
   "metadata": {
    "collapsed": true
   },
   "outputs": [],
   "source": [
    "def k_means(X, n_clusters, init='k-means++', precompute_distances='auto',\n",
    "            n_init=10, max_iter=300, verbose=False,\n",
    "            tol=1e-4, random_state=None, copy_x=True, n_jobs=1,\n",
    "            algorithm=\"auto\", return_n_iter=False):\n",
    "    X = as_float_array(X, copy=copy_x)\n",
    "    tol = _tolerance(X, tol)\n",
    "\n",
    "    if precompute_distances == 'auto':\n",
    "        n_samples = X.shape[0]\n",
    "        precompute_distances = (n_clusters * n_samples) < 12e6\n",
    "    elif isinstance(precompute_distances, bool):\n",
    "        pass\n",
    "    else:\n",
    "        raise ValueError(\"precompute_distances should be 'auto' or True/False\"\n",
    "                         \", but a value of %r was passed\" %\n",
    "                         precompute_distances)\n",
    "\n",
    "    # Validate init array\n",
    "    if hasattr(init, '__array__'):\n",
    "        init = check_array(init, dtype=X.dtype.type, copy=True)\n",
    "        _validate_center_shape(X, n_clusters, init)\n",
    "\n",
    "        if n_init != 1:\n",
    "            warnings.warn(\n",
    "                'Explicit initial center position passed: '\n",
    "                'performing only one init in k-means instead of n_init=%d'\n",
    "                % n_init, RuntimeWarning, stacklevel=2)\n",
    "            n_init = 1\n",
    "\n",
    "    # subtract of mean of x for more accurate distance computations\n",
    "    if not sp.issparse(X):\n",
    "        X_mean = X.mean(axis=0)\n",
    "        # The copy was already done above\n",
    "        X -= X_mean\n",
    "\n",
    "        if hasattr(init, '__array__'):\n",
    "            init -= X_mean\n",
    "\n",
    "    # precompute squared norms of data points\n",
    "    x_squared_norms = row_norms(X, squared=True)\n",
    "\n",
    "    best_labels, best_inertia, best_centers = None, None, None\n",
    "    if n_clusters == 1:\n",
    "        algorithm = \"full\"\n",
    "    if algorithm == \"auto\":\n",
    "        algorithm = \"full\" if sp.issparse(X) else 'elkan'\n",
    "    if algorithm == \"full\":\n",
    "        kmeans_single = _kmeans_single_lloyd\n",
    "    elif algorithm == \"elkan\":\n",
    "        kmeans_single = _kmeans_single_elkan\n",
    "    else:\n",
    "        raise ValueError(\"Algorithm must be 'auto', 'full' or 'elkan', got\"\n",
    "                         \" %s\" % str(algorithm))\n",
    "    if n_jobs == 1:\n",
    "        # For a single thread, less memory is needed if we just store one set\n",
    "        # of the best results (as opposed to one set per run per thread).\n",
    "        for it in range(n_init):\n",
    "            # run a k-means once\n",
    "            labels, inertia, centers, n_iter_ = kmeans_single(\n",
    "                X, n_clusters, max_iter=max_iter, init=init, verbose=verbose,\n",
    "                precompute_distances=precompute_distances, tol=tol,\n",
    "                x_squared_norms=x_squared_norms, random_state=random_state)\n",
    "            # determine if these results are the best so far\n",
    "            if best_inertia is None or inertia < best_inertia:\n",
    "                best_labels = labels.copy()\n",
    "                best_centers = centers.copy()\n",
    "                best_inertia = inertia\n",
    "                best_n_iter = n_iter_\n",
    "    else:\n",
    "        # parallelisation of k-means runs\n",
    "        seeds = random_state.randint(np.iinfo(np.int32).max, size=n_init)\n",
    "        results = Parallel(n_jobs=n_jobs, verbose=0)(\n",
    "            delayed(kmeans_single)(X, n_clusters, max_iter=max_iter, init=init,\n",
    "                                   verbose=verbose, tol=tol,\n",
    "                                   precompute_distances=precompute_distances,\n",
    "                                   x_squared_norms=x_squared_norms,\n",
    "                                   # Change seed to ensure variety\n",
    "                                   random_state=seed)\n",
    "            for seed in seeds)\n",
    "        # Get results with the lowest inertia\n",
    "        labels, inertia, centers, n_iters = zip(*results)\n",
    "        best = np.argmin(inertia)\n",
    "        best_labels = labels[best]\n",
    "        best_inertia = inertia[best]\n",
    "        best_centers = centers[best]\n",
    "        best_n_iter = n_iters[best]\n",
    "\n",
    "    if not sp.issparse(X):\n",
    "        if not copy_x:\n",
    "            X += X_mean\n",
    "        best_centers += X_mean\n",
    "\n",
    "    if return_n_iter:\n",
    "        return best_centers, best_labels, best_inertia, best_n_iter\n",
    "    else:\n",
    "        return best_centers, best_labels, best_inertia"
   ]
  },
  {
   "cell_type": "code",
   "execution_count": null,
   "metadata": {
    "collapsed": true
   },
   "outputs": [],
   "source": [
    "def _kmeans_single_elkan(X, n_clusters, max_iter=300, init='k-means++',\n",
    "                         verbose=False, x_squared_norms=None,\n",
    "                         random_state=None, tol=1e-4,\n",
    "                         precompute_distances=True):\n",
    "    X = check_array(X, order=\"C\")\n",
    "    random_state = check_random_state(random_state)\n",
    "    if x_squared_norms is None: x_squared_norms = row_norms(X, squared=True)\n",
    "    centers = _init_centroids(X, n_clusters, init, random_state=random_state,\n",
    "                              x_squared_norms=x_squared_norms)\n",
    "    centers = np.ascontiguousarray(centers)\n",
    "    if verbose:\n",
    "        print('Initialization complete')\n",
    "    centers, labels, n_iter = k_means_elkan(X, n_clusters, centers, tol=tol,\n",
    "                                            max_iter=max_iter, verbose=verbose)\n",
    "    inertia = np.sum((X - centers[labels]) ** 2, dtype=np.float64)\n",
    "    return labels, inertia, centers, n_iter"
   ]
  },
  {
   "cell_type": "code",
   "execution_count": 107,
   "metadata": {},
   "outputs": [],
   "source": [
    "wnh = np.array(widths_and_hightes)"
   ]
  },
  {
   "cell_type": "code",
   "execution_count": 112,
   "metadata": {},
   "outputs": [
    {
     "name": "stdout",
     "output_type": "stream",
     "text": [
      "1\n"
     ]
    },
    {
     "name": "stderr",
     "output_type": "stream",
     "text": [
      "/opt/conda/lib/python3.6/site-packages/ipykernel_launcher.py:23: RuntimeWarning: Mean of empty slice.\n",
      "/opt/conda/lib/python3.6/site-packages/numpy/core/_methods.py:80: RuntimeWarning: invalid value encountered in double_scalars\n",
      "  ret = ret.dtype.type(ret / rcount)\n",
      "/opt/conda/lib/python3.6/site-packages/ipykernel_launcher.py:25: DeprecationWarning: elementwise == comparison failed; this will raise an error in the future.\n"
     ]
    },
    {
     "ename": "IndexError",
     "evalue": "invalid index to scalar variable.",
     "output_type": "error",
     "traceback": [
      "\u001b[0;31m---------------------------------------------------------------------------\u001b[0m",
      "\u001b[0;31mIndexError\u001b[0m                                Traceback (most recent call last)",
      "\u001b[0;32m<ipython-input-112-235d4802bc65>\u001b[0m in \u001b[0;36m<module>\u001b[0;34m()\u001b[0m\n\u001b[1;32m     28\u001b[0m     \u001b[0;32mreturn\u001b[0m \u001b[0mcenters\u001b[0m\u001b[0;34m,\u001b[0m \u001b[0mlabels\u001b[0m\u001b[0;34m\u001b[0m\u001b[0m\n\u001b[1;32m     29\u001b[0m \u001b[0;34m\u001b[0m\u001b[0m\n\u001b[0;32m---> 30\u001b[0;31m \u001b[0mcenters\u001b[0m\u001b[0;34m,\u001b[0m \u001b[0mlabels\u001b[0m \u001b[0;34m=\u001b[0m \u001b[0mfind_clusters\u001b[0m\u001b[0;34m(\u001b[0m\u001b[0mwnh\u001b[0m\u001b[0;34m,\u001b[0m \u001b[0;36m4\u001b[0m\u001b[0;34m)\u001b[0m\u001b[0;34m\u001b[0m\u001b[0m\n\u001b[0m",
      "\u001b[0;32m<ipython-input-112-235d4802bc65>\u001b[0m in \u001b[0;36mfind_clusters\u001b[0;34m(X, n_clusters, rseed)\u001b[0m\n\u001b[1;32m     19\u001b[0m \u001b[0;34m\u001b[0m\u001b[0m\n\u001b[1;32m     20\u001b[0m     \u001b[0;32mwhile\u001b[0m \u001b[0;32mTrue\u001b[0m\u001b[0;34m:\u001b[0m\u001b[0;34m\u001b[0m\u001b[0m\n\u001b[0;32m---> 21\u001b[0;31m         \u001b[0mlabels\u001b[0m \u001b[0;34m=\u001b[0m \u001b[0margmax_pairwise_iou\u001b[0m\u001b[0;34m(\u001b[0m\u001b[0mX\u001b[0m\u001b[0;34m,\u001b[0m \u001b[0mcenters\u001b[0m\u001b[0;34m)\u001b[0m\u001b[0;34m\u001b[0m\u001b[0m\n\u001b[0m\u001b[1;32m     22\u001b[0m         new_centers = np.array([X[labels == i].mean(0)\n\u001b[1;32m     23\u001b[0m                                 for i in range(n_clusters)])\n",
      "\u001b[0;32m<ipython-input-112-235d4802bc65>\u001b[0m in \u001b[0;36margmax_pairwise_iou\u001b[0;34m(X, Y)\u001b[0m\n\u001b[1;32m      6\u001b[0m     \u001b[0;32mfor\u001b[0m \u001b[0mx\u001b[0m \u001b[0;32min\u001b[0m \u001b[0mX\u001b[0m\u001b[0;34m:\u001b[0m\u001b[0;34m\u001b[0m\u001b[0m\n\u001b[1;32m      7\u001b[0m         \u001b[0;32mfor\u001b[0m \u001b[0my\u001b[0m \u001b[0;32min\u001b[0m \u001b[0mY\u001b[0m\u001b[0;34m:\u001b[0m\u001b[0;34m\u001b[0m\u001b[0m\n\u001b[0;32m----> 8\u001b[0;31m             \u001b[0mval\u001b[0m \u001b[0;34m=\u001b[0m \u001b[0miou\u001b[0m\u001b[0;34m(\u001b[0m\u001b[0mx\u001b[0m\u001b[0;34m,\u001b[0m \u001b[0my\u001b[0m\u001b[0;34m)\u001b[0m\u001b[0;34m\u001b[0m\u001b[0m\n\u001b[0m\u001b[1;32m      9\u001b[0m             \u001b[0;32mif\u001b[0m \u001b[0mval\u001b[0m \u001b[0;34m>\u001b[0m \u001b[0mmax_val\u001b[0m\u001b[0;34m:\u001b[0m\u001b[0;34m\u001b[0m\u001b[0m\n\u001b[1;32m     10\u001b[0m                 \u001b[0mmax_val\u001b[0m \u001b[0;34m=\u001b[0m \u001b[0mval\u001b[0m\u001b[0;34m\u001b[0m\u001b[0m\n",
      "\u001b[0;32m<ipython-input-75-9fab4991a69c>\u001b[0m in \u001b[0;36miou\u001b[0;34m(hw1, hw2)\u001b[0m\n\u001b[1;32m      1\u001b[0m \u001b[0;32mdef\u001b[0m \u001b[0miou\u001b[0m\u001b[0;34m(\u001b[0m\u001b[0mhw1\u001b[0m\u001b[0;34m,\u001b[0m \u001b[0mhw2\u001b[0m\u001b[0;34m)\u001b[0m\u001b[0;34m:\u001b[0m\u001b[0;34m\u001b[0m\u001b[0m\n\u001b[0;32m----> 2\u001b[0;31m     \u001b[0mintersection\u001b[0m \u001b[0;34m=\u001b[0m \u001b[0mmin\u001b[0m\u001b[0;34m(\u001b[0m\u001b[0mhw1\u001b[0m\u001b[0;34m[\u001b[0m\u001b[0;36m0\u001b[0m\u001b[0;34m]\u001b[0m\u001b[0;34m,\u001b[0m\u001b[0mhw2\u001b[0m\u001b[0;34m[\u001b[0m\u001b[0;36m0\u001b[0m\u001b[0;34m]\u001b[0m\u001b[0;34m)\u001b[0m\u001b[0;34m*\u001b[0m\u001b[0mmin\u001b[0m\u001b[0;34m(\u001b[0m\u001b[0mhw1\u001b[0m\u001b[0;34m[\u001b[0m\u001b[0;36m1\u001b[0m\u001b[0;34m]\u001b[0m\u001b[0;34m,\u001b[0m\u001b[0mhw2\u001b[0m\u001b[0;34m[\u001b[0m\u001b[0;36m1\u001b[0m\u001b[0;34m]\u001b[0m\u001b[0;34m)\u001b[0m\u001b[0;34m\u001b[0m\u001b[0m\n\u001b[0m\u001b[1;32m      3\u001b[0m     \u001b[0munion\u001b[0m \u001b[0;34m=\u001b[0m \u001b[0mnp\u001b[0m\u001b[0;34m.\u001b[0m\u001b[0mprod\u001b[0m\u001b[0;34m(\u001b[0m\u001b[0mhw1\u001b[0m\u001b[0;34m)\u001b[0m\u001b[0;34m+\u001b[0m\u001b[0mnp\u001b[0m\u001b[0;34m.\u001b[0m\u001b[0mprod\u001b[0m\u001b[0;34m(\u001b[0m\u001b[0mhw2\u001b[0m\u001b[0;34m)\u001b[0m \u001b[0;34m-\u001b[0m \u001b[0mintersection\u001b[0m\u001b[0;34m\u001b[0m\u001b[0m\n\u001b[1;32m      4\u001b[0m     \u001b[0;32mreturn\u001b[0m \u001b[0mintersection\u001b[0m\u001b[0;34m/\u001b[0m\u001b[0munion\u001b[0m\u001b[0;34m\u001b[0m\u001b[0m\n",
      "\u001b[0;31mIndexError\u001b[0m: invalid index to scalar variable."
     ]
    }
   ],
   "source": [
    "from sklearn.metrics import pairwise_distances_argmin\n",
    "\n",
    "def argmax_pairwise_iou(X, Y):\n",
    "    max_val = 0\n",
    "    argmaxes = []\n",
    "    for x in X:\n",
    "        for y in Y:\n",
    "            val = iou(x, y)\n",
    "            if val > max_val:\n",
    "                max_val = val\n",
    "                argmax = y\n",
    "        argmaxes.append(argmax)\n",
    "    return np.stack(argmaxes)\n",
    "\n",
    "def find_clusters(X, n_clusters, rseed=2):\n",
    "    rng = np.random.RandomState(rseed)\n",
    "    i = rng.permutation(X.shape[0])[:n_clusters]\n",
    "    centers = X[i]\n",
    "    \n",
    "    while True:\n",
    "        labels = argmax_pairwise_iou(X, centers)\n",
    "        new_centers = np.array([X[labels == i].mean(0)\n",
    "                                for i in range(n_clusters)])\n",
    "        print(1)\n",
    "        if np.all(centers == new_centers):\n",
    "            break\n",
    "        centers = new_centers\n",
    "    return centers, labels\n",
    "\n",
    "centers, labels = find_clusters(wnh, 4)\n"
   ]
  },
  {
   "cell_type": "code",
   "execution_count": 84,
   "metadata": {
    "collapsed": true,
    "scrolled": false
   },
   "outputs": [],
   "source": [
    "import random\n",
    "import numpy as np\n",
    "from scipy.spatial.distance import cdist\n",
    "from scipy.sparse import issparse\n",
    "import itertools\n",
    "\n",
    "def _IoU_metric(boxA, boxB):\n",
    "    # determine the (x, y)-coordinates of the intersection rectangle\n",
    "    xA = max(boxA[0], boxB[0])\n",
    "    yA = max(boxA[1], boxB[1])\n",
    "    xB = min(boxA[2], boxB[2])\n",
    "    yB = min(boxA[3], boxB[3])\n",
    "    # compute the area of intersection rectangle\n",
    "    interArea = (xB - xA + 1) * (yB - yA + 1)\n",
    "    # compute the area of both the prediction and ground-truth\n",
    "    # rectangles\n",
    "    boxAArea = (boxA[2] - boxA[0] + 1) * (boxA[3] - boxA[1] + 1)\n",
    "    boxBArea = (boxB[2] - boxB[0] + 1) * (boxB[3] - boxB[1] + 1)\n",
    "    # compute the intersection over union by taking the intersection\n",
    "    # area and dividing it by the sum of prediction + ground-truth\n",
    "    # areas - the interesection area\n",
    "    iou = interArea / float(boxAArea + boxBArea - interArea)\n",
    "    # return the intersection over union value\n",
    "    return -max(0,iou)\n",
    "\n",
    "def IoU_metric(boxesA, boxesB):\n",
    "    result = np.zeros((len(boxesA),len(boxesB)))\n",
    "    for i in range(len(boxesA)):\n",
    "        for j in range(len(boxesB)):\n",
    "            result[i][j] = _IoU_metric(boxesA[i],boxesB[j])\n",
    "    return result\n",
    "    #return np.array([_IoU_metric(BoxA, BoxB) for BoxA, BoxB in zip(boxesA, boxesB)])\n",
    "    \n",
    "#...............................................................................\n",
    "def kmeans( X, centres, delta=.001, maxiter=10, metric=\"euclidean\", p=2, verbose=1 ):\n",
    "    \"\"\" centres, Xtocentre, distances = kmeans( X, initial centres ... )\n",
    "    in:\n",
    "        X N x dim  may be sparse\n",
    "        centres k x dim: initial centres, e.g. random.sample( X, k )\n",
    "        delta: relative error, iterate until the average distance to centres\n",
    "            is within delta of the previous average distance\n",
    "        maxiter\n",
    "        metric: any of the 20-odd in scipy.spatial.distance\n",
    "            \"chebyshev\" = max, \"cityblock\" = L1, \"minkowski\" with p=\n",
    "            or a function( Xvec, centrevec ), e.g. Lqmetric below\n",
    "        p: for minkowski metric -- local mod cdist for 0 < p < 1 too\n",
    "        verbose: 0 silent, 2 prints running distances\n",
    "    out:\n",
    "        centres, k x dim\n",
    "        Xtocentre: each X -> its nearest centre, ints N -> k\n",
    "        distances, N\n",
    "    see also: kmeanssample below, class Kmeans below.\n",
    "    \"\"\"\n",
    "    if not issparse(X):\n",
    "        X = np.asanyarray(X)  # ?\n",
    "    centres = centres.todense() if issparse(centres) \\\n",
    "        else centres.copy()\n",
    "    N, dim = X.shape\n",
    "    k, cdim = centres.shape\n",
    "    if dim != cdim:\n",
    "        raise ValueError( \"kmeans: X %s and centres %s must have the same number of columns\" % (X.shape, centres.shape ))\n",
    "    \n",
    "         \n",
    "    allx = np.arange(N)\n",
    "    prevdist = 0\n",
    "    for jiter in range( 1, maxiter+1 ):\n",
    "        D = cdist_sparse( X, centres, metric=metric, p=p )  # |X| x |centres|\n",
    "        xtoc = D.argmin(axis=1)  # X -> nearest centre\n",
    "        distances = D[allx,xtoc]\n",
    "        avdist = distances.mean()  # median ?\n",
    "        \n",
    "             \n",
    "        if (1 - delta) * prevdist <= avdist <= prevdist \\\n",
    "        or jiter == maxiter:\n",
    "            break\n",
    "        prevdist = avdist\n",
    "        for jc in range(k):  # (1 pass in C)\n",
    "            c = np.where( xtoc == jc )[0]\n",
    "            if len(c) > 0:\n",
    "                centres[jc] = X[c].mean( axis=0 )\n",
    "                \n",
    "        r50 = np.zeros(k)\n",
    "        r90 = np.zeros(k)\n",
    "        for j in range(k):\n",
    "            dist = distances[ xtoc == j ]\n",
    "            if len(dist) > 0:\n",
    "                r50[j], r90[j] = np.percentile( dist, (50, 90) )\n",
    "         \n",
    "         \n",
    "            # scale L1 / dim, L2 / sqrt(dim) ?\n",
    "    return centres, xtoc, distances\n",
    "\n",
    "#...............................................................................\n",
    "def kmeanssample( X, k, nsample=0, **kwargs ):\n",
    "    \"\"\" 2-pass kmeans, fast for large N:\n",
    "        1) kmeans a random sample of nsample ~ sqrt(N) from X\n",
    "        2) full kmeans, starting from those centres\n",
    "    \"\"\"\n",
    "        # merge w kmeans ? mttiw\n",
    "        # v large N: sample N^1/2, N^1/2 of that\n",
    "        # seed like sklearn ?\n",
    "    N, dim = X.shape\n",
    "    if nsample == 0:\n",
    "        nsample = max( 2*np.sqrt(N), 10*k )\n",
    "    Xsample = randomsample( X, int(nsample) )\n",
    "    pass1centres = randomsample( X, int(k) )\n",
    "    samplecentres = kmeans( Xsample, pass1centres, **kwargs )[0]\n",
    "    return kmeans( X, samplecentres, **kwargs )\n",
    "\n",
    "def cdist_sparse( X, Y, **kwargs ):\n",
    "    \"\"\" -> |X| x |Y| cdist array, any cdist metric\n",
    "        X or Y may be sparse -- best csr\n",
    "    \"\"\"\n",
    "        # todense row at a time, v slow if both v sparse\n",
    "    sxy = 2*issparse(X) + issparse(Y)\n",
    "    if sxy == 0:\n",
    "        d = cdist( X, Y, **kwargs ) if metric != 'IoU' else IoU_metric(X, Y)\n",
    "        return d\n",
    "    d = np.empty( (X.shape[0], Y.shape[0]), np.float64 )\n",
    "    if sxy == 2:\n",
    "        for j, x in enumerate(X):\n",
    "            d[j] = cdist( x.todense(), Y, **kwargs ) [0] if metric != 'IoU' else  IoU_metric(np.array([x]), Y)\n",
    "    elif sxy == 1:\n",
    "        for k, y in enumerate(Y):\n",
    "            d[:,k] = cdist( X, y.todense(), **kwargs ) [0] if metric != 'IoU' else  IoU_metric(X, np.array([y]))\n",
    "    else:\n",
    "        for j, x in enumerate(X):\n",
    "            for k, y in enumerate(Y):\n",
    "                d[j,k] = cdist( x.todense(), y.todense(), **kwargs )[0] if metric != 'IoU' else  IoU_metric(np.array([x]), np.array([y]))\n",
    "    return d\n",
    "\n",
    "def randomsample( X, n ):\n",
    "    \"\"\" random.sample of the rows of X\n",
    "        X may be sparse -- best csr\n",
    "    \"\"\"\n",
    "    sampleix = random.sample( range( X.shape[0] ), int(n) )\n",
    "    return X[sampleix]\n",
    "\n",
    "def nearestcentres( X, centres, metric=\"euclidean\", p=2 ):\n",
    "    \"\"\" each X -> nearest centre, any metric\n",
    "            euclidean2 (~ withinss) is more sensitive to outliers,\n",
    "            cityblock (manhattan, L1) less sensitive\n",
    "    \"\"\"\n",
    "    D = cdist( X, centres, metric=metric, p=p ) if metric != 'IoU' else  IoU_metric(X, centres) # |X| x |centres|\n",
    "    return D.argmin(axis=1)\n",
    "\n",
    "def Lqmetric( x, y=None, q=.5 ):\n",
    "    # yes a metric, may increase weight of near matches; see ...\n",
    "    return (np.abs(x - y) ** q) .mean() if y is not None \\\n",
    "        else (np.abs(x) ** q) .mean()\n",
    "\n",
    "#...............................................................................\n",
    "class Kmeans:\n",
    "    \"\"\" km = Kmeans( X, k= or centres=, ... )\n",
    "        in: either initial centres= for kmeans\n",
    "            or k= [nsample=] for kmeanssample\n",
    "        out: km.centres, km.Xtocentre, km.distances\n",
    "        iterator:\n",
    "            for jcentre, J in km:\n",
    "                clustercentre = centres[jcentre]\n",
    "                J indexes e.g. X[J], classes[J]\n",
    "    \"\"\"\n",
    "    def __init__( self, X, k=0, centres=None, nsample=0, **kwargs ):\n",
    "        self.X = X\n",
    "        if centres is None:\n",
    "            self.centres, self.Xtocentre, self.distances = kmeanssample(\n",
    "                X, k=k, nsample=nsample, **kwargs )\n",
    "        else:\n",
    "            self.centres, self.Xtocentre, self.distances = kmeans(\n",
    "                X, centres, **kwargs )\n",
    "\n",
    "    def __iter__(self):\n",
    "        for jc in range(len(self.centres)):\n",
    "            yield jc, (self.Xtocentre == jc)\n",
    "\n",
    "#...............................................................................\n",
    "\n",
    "\n",
    "import random\n",
    "import sys\n",
    "from time import time\n",
    "\n",
    "\n",
    "N = 10000\n",
    "dim = 4\n",
    "ncluster = 10\n",
    "kmsample = 100  # 0: random centres, > 0: kmeanssample\n",
    "kmdelta = .001\n",
    "kmiter = 10\n",
    "metric = \"IoU\"  # \"chebyshev\" = max, \"cityblock\" L1,  Lqmetric\n",
    "seed = 1\n",
    "\n",
    "#exec( \"\\n\".join( sys.argv[1:] ))  # run this.py N= ...\n",
    "\n",
    "np.set_printoptions( 1, threshold=200, edgeitems=5, suppress=True )\n",
    "np.random.seed(seed)\n",
    "random.seed(seed)\n",
    "\n",
    " \n",
    "X = np.random.exponential( size=(N,dim) )\n",
    "    # cf scikits-learn datasets/\n",
    "t0 = time()\n",
    "if kmsample > 0:\n",
    "    centres, xtoc, dist = kmeanssample( X, ncluster, nsample=kmsample,\n",
    "        delta=kmdelta, maxiter=kmiter, metric=metric, verbose=2 )\n",
    "else:\n",
    "    randomcentres = randomsample( X, ncluster )\n",
    "    centres, xtoc, dist = kmeans( X, randomcentres,\n",
    "        delta=kmdelta, maxiter=kmiter, metric=metric, verbose=2 )"
   ]
  },
  {
   "cell_type": "code",
   "execution_count": 85,
   "metadata": {},
   "outputs": [
    {
     "data": {
      "text/plain": [
       "array([[0.7, 1. , 1.3, 2.4],\n",
       "       [1.3, 2.1, 0.6, 0.5],\n",
       "       [0.7, 0.5, 1.3, 0.8],\n",
       "       [0.7, 0.7, 0.5, 0.8],\n",
       "       [1.4, 1.1, 0.7, 0.9],\n",
       "       [2.3, 0.9, 0.5, 1. ],\n",
       "       [1.1, 1.8, 0.8, 0.6],\n",
       "       [1.3, 1.4, 1. , 0.6],\n",
       "       [1.4, 1.5, 0.6, 0.7],\n",
       "       [1.1, 1.5, 0.8, 0.7]])"
      ]
     },
     "execution_count": 85,
     "metadata": {},
     "output_type": "execute_result"
    }
   ],
   "source": [
    "centres"
   ]
  },
  {
   "cell_type": "code",
   "execution_count": 36,
   "metadata": {},
   "outputs": [
    {
     "ename": "ValueError",
     "evalue": "XA must be a 2-dimensional array.",
     "output_type": "error",
     "traceback": [
      "\u001b[0;31m---------------------------------------------------------------------------\u001b[0m",
      "\u001b[0;31mValueError\u001b[0m                                Traceback (most recent call last)",
      "\u001b[0;32m<ipython-input-36-d28e43b038b4>\u001b[0m in \u001b[0;36m<module>\u001b[0;34m()\u001b[0m\n\u001b[1;32m      6\u001b[0m \u001b[0mdist1\u001b[0m \u001b[0;34m=\u001b[0m \u001b[0mnp\u001b[0m\u001b[0;34m.\u001b[0m\u001b[0marray\u001b[0m\u001b[0;34m(\u001b[0m\u001b[0;34m[\u001b[0m\u001b[0;36m1\u001b[0m\u001b[0;34m,\u001b[0m\u001b[0;36m2\u001b[0m\u001b[0;34m,\u001b[0m\u001b[0;36m3\u001b[0m\u001b[0;34m,\u001b[0m\u001b[0;36m4\u001b[0m\u001b[0;34m]\u001b[0m\u001b[0;34m)\u001b[0m\u001b[0;34m\u001b[0m\u001b[0m\n\u001b[1;32m      7\u001b[0m \u001b[0mdist2\u001b[0m \u001b[0;34m=\u001b[0m \u001b[0mnp\u001b[0m\u001b[0;34m.\u001b[0m\u001b[0marray\u001b[0m\u001b[0;34m(\u001b[0m\u001b[0;34m[\u001b[0m\u001b[0;36m2\u001b[0m\u001b[0;34m,\u001b[0m\u001b[0;36m2\u001b[0m\u001b[0;34m,\u001b[0m\u001b[0;36m3\u001b[0m\u001b[0;34m,\u001b[0m\u001b[0;36m4\u001b[0m\u001b[0;34m]\u001b[0m\u001b[0;34m)\u001b[0m\u001b[0;34m\u001b[0m\u001b[0m\n\u001b[0;32m----> 8\u001b[0;31m \u001b[0mcdist\u001b[0m\u001b[0;34m(\u001b[0m\u001b[0mdist1\u001b[0m\u001b[0;34m,\u001b[0m \u001b[0mdist2\u001b[0m\u001b[0;34m)\u001b[0m\u001b[0;34m\u001b[0m\u001b[0m\n\u001b[0m\u001b[1;32m      9\u001b[0m \u001b[0mIoU_metric\u001b[0m\u001b[0;34m(\u001b[0m\u001b[0mdist1\u001b[0m\u001b[0;34m,\u001b[0m \u001b[0mdist2\u001b[0m\u001b[0;34m)\u001b[0m\u001b[0;34m\u001b[0m\u001b[0m\n",
      "\u001b[0;32m/opt/conda/lib/python3.6/site-packages/scipy/spatial/distance.py\u001b[0m in \u001b[0;36mcdist\u001b[0;34m(XA, XB, metric, *args, **kwargs)\u001b[0m\n\u001b[1;32m   2367\u001b[0m \u001b[0;34m\u001b[0m\u001b[0m\n\u001b[1;32m   2368\u001b[0m     \u001b[0;32mif\u001b[0m \u001b[0mlen\u001b[0m\u001b[0;34m(\u001b[0m\u001b[0ms\u001b[0m\u001b[0;34m)\u001b[0m \u001b[0;34m!=\u001b[0m \u001b[0;36m2\u001b[0m\u001b[0;34m:\u001b[0m\u001b[0;34m\u001b[0m\u001b[0m\n\u001b[0;32m-> 2369\u001b[0;31m         \u001b[0;32mraise\u001b[0m \u001b[0mValueError\u001b[0m\u001b[0;34m(\u001b[0m\u001b[0;34m'XA must be a 2-dimensional array.'\u001b[0m\u001b[0;34m)\u001b[0m\u001b[0;34m\u001b[0m\u001b[0m\n\u001b[0m\u001b[1;32m   2370\u001b[0m     \u001b[0;32mif\u001b[0m \u001b[0mlen\u001b[0m\u001b[0;34m(\u001b[0m\u001b[0msB\u001b[0m\u001b[0;34m)\u001b[0m \u001b[0;34m!=\u001b[0m \u001b[0;36m2\u001b[0m\u001b[0;34m:\u001b[0m\u001b[0;34m\u001b[0m\u001b[0m\n\u001b[1;32m   2371\u001b[0m         \u001b[0;32mraise\u001b[0m \u001b[0mValueError\u001b[0m\u001b[0;34m(\u001b[0m\u001b[0;34m'XB must be a 2-dimensional array.'\u001b[0m\u001b[0;34m)\u001b[0m\u001b[0;34m\u001b[0m\u001b[0m\n",
      "\u001b[0;31mValueError\u001b[0m: XA must be a 2-dimensional array."
     ]
    }
   ],
   "source": [
    "from scipy.spatial.distance import cdist\n",
    "import numpy as np\n",
    "# cdist( X, centres, metric=metric, p=p ) if metric != 'IoU' else  IoU_metric(X, centres)\n",
    "# dist1 = np.array([[1,2,3,4],[3,4,5,6],[4,5,6,7]])\n",
    "# dist2 = np.array([[2,2,3,4],[4,4,5,6],[5,5,6,7],[0,0,1,1]])\n",
    "dist1 = np.array([[1,2,3,4],[3,4,5,6],[4,5,6,7]])\n",
    "dist2 = np.array([[2,2,3,4],[4,4,5,6],[5,5,6,7],[0,0,1,1]])\n",
    "cdist(dist1, dist2), IoU_metric(dist1, dist2)"
   ]
  },
  {
   "cell_type": "code",
   "execution_count": 88,
   "metadata": {
    "collapsed": true
   },
   "outputs": [],
   "source": [
    "import pickle\n",
    "with open('bblist', 'rb') as f:\n",
    "    list_of_boxes = pickle.load(f)\n",
    "list_of_boxes = list(map(lambda x: x['boundingBox'], list_of_boxes))"
   ]
  },
  {
   "cell_type": "code",
   "execution_count": 89,
   "metadata": {
    "collapsed": true
   },
   "outputs": [],
   "source": [
    "widths_and_hightes = list(map(lambda x: (x['Width'], x['Height']), list_of_boxes))"
   ]
  },
  {
   "cell_type": "code",
   "execution_count": 118,
   "metadata": {},
   "outputs": [],
   "source": [
    "wnh = list(filter(lambda x: x[0]!=0 and x[1]!=0, widths_and_hightes))"
   ]
  },
  {
   "cell_type": "code",
   "execution_count": 120,
   "metadata": {},
   "outputs": [
    {
     "data": {
      "text/plain": [
       "<seaborn.axisgrid.JointGrid at 0x7f05322a5b00>"
      ]
     },
     "execution_count": 120,
     "metadata": {},
     "output_type": "execute_result"
    },
    {
     "data": {
      "image/png": "[encoded data removed]",
      "text/plain": [
       "<matplotlib.figure.Figure at 0x7f05322a5e48>"
      ]
     },
     "metadata": {},
     "output_type": "display_data"
    }
   ],
   "source": [
    "import pandas as pd\n",
    "import seaborn as sns\n",
    "df = pd.DataFrame(wnh, columns=[\"x\", \"y\"])\n",
    "\n",
    "sns.jointplot(df.x, df.y, )"
   ]
  },
  {
   "cell_type": "code",
   "execution_count": 121,
   "metadata": {
    "collapsed": true
   },
   "outputs": [],
   "source": [
    "from sklearn.cluster import KMeans"
   ]
  },
  {
   "cell_type": "code",
   "execution_count": 133,
   "metadata": {
    "collapsed": true
   },
   "outputs": [],
   "source": [
    "km = KMeans(5)"
   ]
  },
  {
   "cell_type": "code",
   "execution_count": 136,
   "metadata": {},
   "outputs": [],
   "source": [
    "km = km.fit((df.x*df.y).values.reshape(-1,1))"
   ]
  },
  {
   "cell_type": "code",
   "execution_count": 137,
   "metadata": {},
   "outputs": [
    {
     "data": {
      "text/plain": [
       "array([13518.8, 39695.1,  4827.3, 24178.1, 67409.7])"
      ]
     },
     "execution_count": 137,
     "metadata": {},
     "output_type": "execute_result"
    }
   ],
   "source": [
    "km.cluster_centers_.reshape(-1)"
   ]
  },
  {
   "cell_type": "code",
   "execution_count": 65,
   "metadata": {},
   "outputs": [
    {
     "name": "stdout",
     "output_type": "stream",
     "text": [
      "0.5625 0.5625\n",
      "0.14285714285714285 0.14285714285714285\n"
     ]
    }
   ],
   "source": [
    "def IoU_metric(boxA, boxB):\n",
    "    # determine the (x, y)-coordinates of the intersection rectangle\n",
    "    xA = max(boxA[0], boxB[0])\n",
    "    yA = max(boxA[1], boxB[1])\n",
    "    xB = min(boxA[2], boxB[2])\n",
    "    yB = min(boxA[3], boxB[3])\n",
    "    # compute the area of intersection rectangle\n",
    "    interArea = (xB - xA + 1) * (yB - yA + 1)\n",
    "    # compute the area of both the prediction and ground-truth\n",
    "    # rectangles\n",
    "    boxAArea = (boxA[2] - boxA[0] + 1) * (boxA[3] - boxA[1] + 1)\n",
    "    boxBArea = (boxB[2] - boxB[0] + 1) * (boxB[3] - boxB[1] + 1)\n",
    "    # compute the intersection over union by taking the intersection\n",
    "    # area and dividing it by the sum of prediction + ground-truth\n",
    "    # areas - the interesection area\n",
    "    iou = interArea / float(boxAArea + boxBArea - interArea)\n",
    "    # return the intersection over union value\n",
    "    return iou\n",
    "\n",
    "print(bb_intersection_over_union([1,1,3,3],[1,1,4,4]),9/16)\n",
    "print(bb_intersection_over_union([1,1,2,2],[2,2,3,3]),1/7)\n",
    "\n"
   ]
  },
  {
   "cell_type": "code",
   "execution_count": 76,
   "metadata": {},
   "outputs": [
    {
     "data": {
      "text/plain": [
       "0.18032786885245902"
      ]
     },
     "execution_count": 76,
     "metadata": {},
     "output_type": "execute_result"
    }
   ],
   "source": [
    "IoU_metric([0,0,10,50],[0,0,20,10])"
   ]
  },
  {
   "cell_type": "code",
   "execution_count": 75,
   "metadata": {
    "collapsed": true
   },
   "outputs": [],
   "source": [
    "def iou(hw1, hw2):\n",
    "    intersection = min(hw1[0],hw2[0])*min(hw1[1],hw2[1])\n",
    "    union = np.prod(hw1)+np.prod(hw2) - intersection\n",
    "    return intersection/union"
   ]
  }
 ],
 "metadata": {
  "kernelspec": {
   "display_name": "Python 3",
   "language": "python",
   "name": "python3"
  },
  "language_info": {
   "codemirror_mode": {
    "name": "ipython",
    "version": 3
   },
   "file_extension": ".py",
   "mimetype": "text/x-python",
   "name": "python",
   "nbconvert_exporter": "python",
   "pygments_lexer": "ipython3",
   "version": "3.6.4"
  }
 },
 "nbformat": 4,
 "nbformat_minor": 2
}
